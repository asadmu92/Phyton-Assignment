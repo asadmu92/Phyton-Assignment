{
 "cells": [
  {
   "cell_type": "code",
   "execution_count": 4,
   "metadata": {},
   "outputs": [
    {
     "name": "stdout",
     "output_type": "stream",
     "text": [
      "Enter a Number : 6\n",
      "720\n"
     ]
    }
   ],
   "source": [
    "def fact(n):\n",
    "    if n == 0:\n",
    "        return 1\n",
    "    else:\n",
    "        return n * fact(n-1)\n",
    "n=int(input(\"Enter a Number : \"))\n",
    "print(fact(n))"
   ]
  },
  {
   "cell_type": "code",
   "execution_count": 5,
   "metadata": {},
   "outputs": [
    {
     "name": "stdout",
     "output_type": "stream",
     "text": [
      "Actual String:  My NaMe is ASad\n",
      "No. of UpperCase Characters :  5\n",
      "No. of LowerCase Characters :  7\n"
     ]
    }
   ],
   "source": [
    "def st_upper_lower(s):\n",
    "    d={\"UPPER_CASE\":0, \"LOWER_CASE\":0}\n",
    "    for ch in s:\n",
    "        if ch.isupper():\n",
    "           d[\"UPPER_CASE\"]+=1\n",
    "        elif ch.islower():\n",
    "           d[\"LOWER_CASE\"]+=1\n",
    "        else:\n",
    "           pass\n",
    "    print (\"Actual String: \", s)\n",
    "    print (\"No. of UpperCase Characters : \", d[\"UPPER_CASE\"])\n",
    "    print (\"No. of LowerCase Characters : \", d[\"LOWER_CASE\"])\n",
    "\n",
    "st_upper_lower('My NaMe is ASad')"
   ]
  },
  {
   "cell_type": "code",
   "execution_count": 8,
   "metadata": {},
   "outputs": [
    {
     "name": "stdout",
     "output_type": "stream",
     "text": [
      "Printing Numbers that are Even\n",
      "2\n",
      "8\n",
      "34\n"
     ]
    }
   ],
   "source": [
    "mylist = [1, 1, 2, 3, 5, 8, 13, 21, 34, 55, 89]\n",
    "print(\"Printing Numbers that are Even\")\n",
    "for i in mylist:\n",
    "    if(i%2==0):\n",
    "        print(i)\n"
   ]
  },
  {
   "cell_type": "code",
   "execution_count": 11,
   "metadata": {},
   "outputs": [
    {
     "name": "stdout",
     "output_type": "stream",
     "text": [
      "Yes it is a Palindrome\n"
     ]
    }
   ],
   "source": [
    "x = \"madam\"\n",
    "w = \"\" \n",
    "for i in x: \n",
    "    w = i + w \n",
    "    if (x==w): \n",
    "        print(\"Yes it is a Palindrome\") "
   ]
  },
  {
   "cell_type": "code",
   "execution_count": 20,
   "metadata": {},
   "outputs": [
    {
     "name": "stdout",
     "output_type": "stream",
     "text": [
      "22 is not a prime number\n"
     ]
    }
   ],
   "source": [
    "def isPrime(num):\n",
    "    if num > 1:\n",
    "        for i in range(2, num//2):\n",
    "            if (num % i) == 0:\n",
    "                print(num, \"is not a prime number\")\n",
    "                break\n",
    "            else:\n",
    "                print(num, \"is a prime number\")\n",
    "                break\n",
    "    else:\n",
    "        print(num, \"is not a prime number\")\n",
    "isPrime(22)"
   ]
  },
  {
   "cell_type": "code",
   "execution_count": 23,
   "metadata": {},
   "outputs": [
    {
     "name": "stdout",
     "output_type": "stream",
     "text": [
      "Shopping Cart: Items Purchased\n",
      "Orange\n",
      "Milk\n",
      "Rice\n",
      "Oil\n"
     ]
    }
   ],
   "source": [
    "def myCart(*items): \n",
    "   for i in items:\n",
    "       print(i)\n",
    "print(\"Shopping Cart: Items Purchased\")\n",
    "myCart(\"Orange\",\"Milk\",\"Rice\",\"Oil\")"
   ]
  }
 ],
 "metadata": {
  "kernelspec": {
   "display_name": "Python 3",
   "language": "python",
   "name": "python3"
  },
  "language_info": {
   "codemirror_mode": {
    "name": "ipython",
    "version": 3
   },
   "file_extension": ".py",
   "mimetype": "text/x-python",
   "name": "python",
   "nbconvert_exporter": "python",
   "pygments_lexer": "ipython3",
   "version": "3.6.7"
  }
 },
 "nbformat": 4,
 "nbformat_minor": 2
}
