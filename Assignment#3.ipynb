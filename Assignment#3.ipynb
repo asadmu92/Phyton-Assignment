{
 "cells": [
  {
   "cell_type": "code",
   "execution_count": 2,
   "metadata": {},
   "outputs": [
    {
     "name": "stdout",
     "output_type": "stream",
     "text": [
      "Enter First Value:15\n",
      "Enter Second Value:56\n",
      "Enter Operator:*\n",
      "Multiplication: 840\n"
     ]
    }
   ],
   "source": [
    "num1=int(input(\"Enter First Value:\"))\n",
    "num2=int(input(\"Enter Second Value:\"))\n",
    "operator=str(input(\"Enter Operator:\"))\n",
    "if operator==\"+\":\n",
    "    res=num1+num2\n",
    "    print(\"Sum:\",res)\n",
    "elif operator==\"-\":\n",
    "    res=num1-num2\n",
    "    print(\"Difference:\",res)\n",
    "elif operator==\"*\":\n",
    "    res=num1*num2\n",
    "    print(\"Multiplication:\",res)\n",
    "elif operator==\"/\":\n",
    "    res=num1/num2\n",
    "    print(\"Divison:\",res)\n",
    "else:\n",
    "    print(\"Invalid Opeator Given...!\")\n"
   ]
  },
  {
   "cell_type": "code",
   "execution_count": 3,
   "metadata": {},
   "outputs": [
    {
     "name": "stdout",
     "output_type": "stream",
     "text": [
      "There is a numeric Number in list\n"
     ]
    }
   ],
   "source": [
    "a = [\"Asad\",\"Ahmed\",\"Khalid\",5,\"Ali\"]\n",
    "for i in a:\n",
    "    if(isinstance(i,int)):\n",
    "        print(\"There is a numeric Number in list\")\n"
   ]
  },
  {
   "cell_type": "code",
   "execution_count": 5,
   "metadata": {},
   "outputs": [
    {
     "name": "stdout",
     "output_type": "stream",
     "text": [
      "Before Adding a Key:\n",
      "{'firstname': 'Asad', 'lastname': 'Mughal', 'city': 'Hyderabad'}\n",
      "After Adding a Key:\n",
      "{'firstname': 'Asad', 'lastname': 'Mughal', 'city': 'Hyderabad', 'age': 26}\n"
     ]
    }
   ],
   "source": [
    "mydict={\"firstname\":\"Asad\",\"lastname\":\"Mughal\",\"city\":\"Hyderabad\"}\n",
    "print(\"Before Adding a Key:\")\n",
    "print(mydict)\n",
    "if 'age' not in mydict.keys():\n",
    "    mydict['age'] = 26\n",
    "print(\"After Adding a Key:\")\n",
    "print(mydict)"
   ]
  },
  {
   "cell_type": "code",
   "execution_count": 6,
   "metadata": {},
   "outputs": [
    {
     "name": "stdout",
     "output_type": "stream",
     "text": [
      "Sum : 125\n"
     ]
    }
   ],
   "source": [
    "dict = {'a': 10, 'b':50, 'c':65}\n",
    "sum = 0\n",
    "for i in dict.values(): \n",
    "    sum = sum + i \n",
    "print(\"Sum :\", sum) "
   ]
  },
  {
   "cell_type": "code",
   "execution_count": 7,
   "metadata": {},
   "outputs": [
    {
     "name": "stdout",
     "output_type": "stream",
     "text": [
      "[10, 30, 1, -20]\n"
     ]
    }
   ],
   "source": [
    "mylist = [10, 10, 30, 1, 20, 30, 40,6, -6, 60, 1, -20, -20] \n",
    "size = len(mylist) \n",
    "duplicate = [] \n",
    "for i in range(size): \n",
    "    k = i + 1\n",
    "    for j in range(k,size): \n",
    "            if mylist[i] == mylist[j] and mylist[i] not in duplicate: \n",
    "                duplicate.append(mylist[i]) \n",
    "print (duplicate) "
   ]
  },
  {
   "cell_type": "code",
   "execution_count": 8,
   "metadata": {},
   "outputs": [
    {
     "name": "stdout",
     "output_type": "stream",
     "text": [
      "Enter a Key:d\n",
      "Not present\n"
     ]
    }
   ],
   "source": [
    "dict = {'a': 100, 'b':200, 'c':300} \n",
    "key=input(\"Enter a Key:\")\n",
    "if key in dict.keys(): \n",
    "    print(\"Present, \", end =\" \") \n",
    "    print(\"value =\", dict[key]) \n",
    "else: \n",
    "    print(\"Not present\") "
   ]
  },
  {
   "cell_type": "code",
   "execution_count": null,
   "metadata": {},
   "outputs": [],
   "source": []
  }
 ],
 "metadata": {
  "kernelspec": {
   "display_name": "Python 3",
   "language": "python",
   "name": "python3"
  },
  "language_info": {
   "codemirror_mode": {
    "name": "ipython",
    "version": 3
   },
   "file_extension": ".py",
   "mimetype": "text/x-python",
   "name": "python",
   "nbconvert_exporter": "python",
   "pygments_lexer": "ipython3",
   "version": "3.6.7"
  }
 },
 "nbformat": 4,
 "nbformat_minor": 2
}
