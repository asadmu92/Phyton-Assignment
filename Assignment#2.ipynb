{
 "cells": [
  {
   "cell_type": "code",
   "execution_count": 1,
   "metadata": {},
   "outputs": [
    {
     "name": "stdout",
     "output_type": "stream",
     "text": [
      "=====Marksheet=====\n",
      "Enter Engalish Marks:68\n",
      "Enter Urdu Marks:78\n",
      "Enter Computer Marks:60\n",
      "Enter Maths Marks:70\n",
      "Enter Pak Studies Marks:85\n",
      "=====Printing Marksheet=====\n",
      "Obatined Marks: 361\n",
      "Total Marks: 500\n",
      "Percentage: 72.2\n",
      "Grade: A\n"
     ]
    }
   ],
   "source": [
    "print(\"=====Marksheet=====\")\n",
    "s1=int(input(\"Enter Engalish Marks:\"))\n",
    "s2=int(input(\"Enter Urdu Marks:\"))\n",
    "s3=int(input(\"Enter Computer Marks:\"))\n",
    "s4=int(input(\"Enter Maths Marks:\"))\n",
    "s5=int(input(\"Enter Pak Studies Marks:\"))\n",
    "total_marks=500;\n",
    "obtain_marks=s1+s2+s3+s4+s5;\n",
    "per=(obtain_marks/total_marks)*100;\n",
    "if per >=80 and per<=100:\n",
    "    grade=\"A1\";\n",
    "elif per>=70 and per<80:\n",
    "    grade=\"A\";\n",
    "elif per>=60 and per<70:\n",
    "    grade=\"B\";\n",
    "elif per>=50 and per<60:\n",
    "    grade=\"C\";\n",
    "elif per>=40 and per<50:\n",
    "    grade=\"D\";\n",
    "else: \n",
    "    grade=\"Fail\";\n",
    "print(\"=====Printing Marksheet=====\")\n",
    "print(\"Obatined Marks:\",obtain_marks)\n",
    "print(\"Total Marks:\",total_marks)\n",
    "print(\"Percentage:\",per)\n",
    "print(\"Grade:\",grade)"
   ]
  },
  {
   "cell_type": "code",
   "execution_count": 2,
   "metadata": {},
   "outputs": [
    {
     "name": "stdout",
     "output_type": "stream",
     "text": [
      "Enter a Number:5\n",
      "It is an Odd Number\n"
     ]
    }
   ],
   "source": [
    "num=int(input(\"Enter a Number:\"))\n",
    "if num%2==0:\n",
    "    print(\"It is an Even Number\")\n",
    "else:\n",
    "    print(\"It is an Odd Number\")"
   ]
  },
  {
   "cell_type": "code",
   "execution_count": 3,
   "metadata": {},
   "outputs": [
    {
     "name": "stdout",
     "output_type": "stream",
     "text": [
      "Lenght of List: 9\n"
     ]
    }
   ],
   "source": [
    "my_list = ['p','r','o','g','r','a','m','i','z']\n",
    "print(\"Lenght of List:\",len(my_list))"
   ]
  },
  {
   "cell_type": "code",
   "execution_count": 4,
   "metadata": {},
   "outputs": [
    {
     "name": "stdout",
     "output_type": "stream",
     "text": [
      "sum: 210\n"
     ]
    }
   ],
   "source": [
    "sum=0;\n",
    "my_list = [25,5,6,45,56,68,5]\n",
    "for i in my_list:\n",
    "    sum+=i\n",
    "print(\"sum:\",sum)"
   ]
  },
  {
   "cell_type": "code",
   "execution_count": 5,
   "metadata": {},
   "outputs": [
    {
     "name": "stdout",
     "output_type": "stream",
     "text": [
      "Largest Value in List: 68\n"
     ]
    }
   ],
   "source": [
    "sum=0;\n",
    "my_list = [25,5,6,45,56,68,5]\n",
    "print(\"Largest Value in List:\",max(my_list))"
   ]
  },
  {
   "cell_type": "code",
   "execution_count": 6,
   "metadata": {},
   "outputs": [
    {
     "name": "stdout",
     "output_type": "stream",
     "text": [
      "Printing Values that are less than 5\n",
      "1\n",
      "1\n",
      "2\n",
      "3\n"
     ]
    }
   ],
   "source": [
    "a = [1, 1, 2, 3, 5, 8, 13, 21, 34, 55, 89]\n",
    "print(\"Printing Values that are less than 5\")\n",
    "for i in a:\n",
    "    if(i<5):\n",
    "        print(i)"
   ]
  },
  {
   "cell_type": "code",
   "execution_count": null,
   "metadata": {},
   "outputs": [],
   "source": []
  }
 ],
 "metadata": {
  "kernelspec": {
   "display_name": "Python 3",
   "language": "python",
   "name": "python3"
  },
  "language_info": {
   "codemirror_mode": {
    "name": "ipython",
    "version": 3
   },
   "file_extension": ".py",
   "mimetype": "text/x-python",
   "name": "python",
   "nbconvert_exporter": "python",
   "pygments_lexer": "ipython3",
   "version": "3.6.7"
  }
 },
 "nbformat": 4,
 "nbformat_minor": 2
}
