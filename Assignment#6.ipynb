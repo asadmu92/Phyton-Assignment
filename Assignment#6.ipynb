{
 "cells": [
  {
   "cell_type": "markdown",
   "metadata": {},
   "source": [
    "1. What is OOP?\n",
    "Ans. Object-oriented programming (OOP) is a programming language model in which programs are organized around data, or objects, rather than functions and logic. An object can be defined as a data field that has unique attributes and behavior.\n",
    "\n",
    "2. Benefits of OOP?\n",
    "Ans. Benefits of OOP includes\n",
    "1. Reusability of code\n",
    "2. Maintainabilty of code \n",
    "3. Portability \n",
    "4. Extensibility\n",
    "\n",
    "3. Function VS Method?\n",
    "Ans. Python method is called on an object, unlike a function. ... Since we call a method on an object, it can access the data within it. A method may alter an object's state, but Python function usually only operates on it, and then prints something or returns a value.\n",
    "\n",
    "4. Define the terms:\n",
    "1. A Class is a blueprint for creating objects (a particular data structure), providing initial values for state (member variables or attributes), and implementations of behavior (member functions or methods).\n",
    "2. An object is an instance of a Class and we actually used objects to work with classes.\n",
    "3. Attribute are the chracteristics that an object can have like car have a model,make and name\n",
    "4. Behavior determine the actions that can be associated with an object like accelrate, brake etc.\n",
    "\n"
   ]
  },
  {
   "cell_type": "code",
   "execution_count": null,
   "metadata": {},
   "outputs": [],
   "source": [
    "class Car:\n",
    "    def __init__(self, name, model, make,color,auto):\n",
    "        self.name = name\n",
    "        self.model = model\n",
    "        self.make = make\n",
    "        self.color = color\n",
    "        self.auto = auto\n",
    "        \n",
    "    def brake():\n",
    "        print(\"Stopping the Car\")\n",
    "        \n",
    "    def acc():\n",
    "        print(\"Car is Starting\")\n",
    "    \n",
    "    def isAuto():\n",
    "        if auto== True:\n",
    "            print(\"Auto Car\")\n",
    "        else:\n",
    "            print(\"Manual Car\")\n",
    " \n",
    "car1 =Car(\"City\",\"2019\",\"HONDA\",\"Black\",True)\n",
    "car2 =Car(\"Civic\",\"2019\",\"HONDA\",\"Black\",True)\n",
    "car3 =Car(\"Mehran\",\"2019\",\"Suzuki\",\"White\",False)\n",
    "car4 =Car(\"Alto\",\"2019\",\"Suzuki\",\"Grey\",False)\n",
    "car5 =Car(\"Cultus\",\"2019\",\"Suzuki\",\"Blue\",True)\n",
    "\n"
   ]
  }
 ],
 "metadata": {
  "kernelspec": {
   "display_name": "Python 3",
   "language": "python",
   "name": "python3"
  },
  "language_info": {
   "codemirror_mode": {
    "name": "ipython",
    "version": 3
   },
   "file_extension": ".py",
   "mimetype": "text/x-python",
   "name": "python",
   "nbconvert_exporter": "python",
   "pygments_lexer": "ipython3",
   "version": "3.6.7"
  }
 },
 "nbformat": 4,
 "nbformat_minor": 2
}
