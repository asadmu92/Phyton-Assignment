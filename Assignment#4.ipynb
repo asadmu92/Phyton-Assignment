{
 "cells": [
  {
   "cell_type": "code",
   "execution_count": 1,
   "metadata": {},
   "outputs": [
    {
     "name": "stdout",
     "output_type": "stream",
     "text": [
      "Customer Data\n",
      "first_name:Asad\n",
      "last_name:Mughal\n",
      "age:23\n",
      "city:Hyderabad\n",
      "\n",
      "After adding Qualification\n",
      "\n",
      "first_name:Asad\n",
      "last_name:Mughal\n",
      "age:23\n",
      "city:Hyderabad\n",
      "qualification:High Acedemic Level\n",
      "\n",
      "After Deleting Qualification\n",
      "\n",
      "first_name:Asad\n",
      "last_name:Mughal\n",
      "age:23\n",
      "city:Hyderabad\n"
     ]
    }
   ],
   "source": [
    "customer={\n",
    "  \"first_name\":\"Asad\",\n",
    "  \"last_name\": \"Mughal\",\n",
    "   \"age\":\"23\",\n",
    "   \"city\":\"Hyderabad\" \n",
    "}\n",
    "print(\"Customer Data\")\n",
    "for key, value in customer.items():\n",
    "    print(key + \":\" +value)\n",
    "\n",
    "customer[\"qualification\"]=\"High Acedemic Level\"    \n",
    "\n",
    "print(\"\\nAfter adding Qualification\\n\")\n",
    "for key, value in customer.items():\n",
    "    print( key + \":\" +value)\n",
    "\n",
    "del customer[\"qualification\"]\n",
    "print(\"\\nAfter Deleting Qualification\\n\")\n",
    "for key, value in customer.items():\n",
    "    print( key + \":\" +value)"
   ]
  },
  {
   "cell_type": "code",
   "execution_count": 2,
   "metadata": {},
   "outputs": [
    {
     "name": "stdout",
     "output_type": "stream",
     "text": [
      "\n",
      "City: Hyderabad\n",
      "Country: Pakistan\n",
      "Population: 1.733 million\n",
      "Fact: Hyderabad Earlier Known as Neroon Kot \n",
      "\n",
      "City: Karachi\n",
      "Country: Pakistan\n",
      "Population: 14.91 million\n",
      "Fact: It is the Sixth largest city in the world by city population.\n",
      "\n",
      "City: Lahore\n",
      "Country: Pakistan\n",
      "Population: 6.3 million\n",
      "Fact: Lahore is the capital city of the Pakistani province of Punjab\n"
     ]
    }
   ],
   "source": [
    "cities = {\n",
    " \"Hyderabad\": {\n",
    "     \"Country\":\"Pakistan\",\n",
    "     \"Population\": \"1.733 million\",\n",
    "     \"Fact\": \"Hyderabad Earlier Known as Neroon Kot \",\n",
    " },\n",
    " \"Karachi\": {\n",
    "    \"Country\":\"Pakistan\",\n",
    "     \"Population\": \"14.91 million\",\n",
    "     \"Fact\": \"It is the Sixth largest city in the world by city population.\",\n",
    " },\n",
    " \"Lahore\": {\n",
    "     \"Country\":\"Pakistan\",\n",
    "     \"Population\": \"6.3 million\",\n",
    "     \"Fact\": \"Lahore is the capital city of the Pakistani province of Punjab\",\n",
    " },\n",
    " }\n",
    "for city, city_info in cities.items():\n",
    "    print(\"\\nCity:\", city)\n",
    "    \n",
    "    for key in city_info:\n",
    "        print(key + ':', city_info[key])\n"
   ]
  },
  {
   "cell_type": "code",
   "execution_count": 3,
   "metadata": {},
   "outputs": [
    {
     "name": "stdout",
     "output_type": "stream",
     "text": [
      "Enter Your Age:3\n",
      "Ticket Price:$10\n"
     ]
    }
   ],
   "source": [
    "age=int(input(\"Enter Your Age:\"))\n",
    "if age<3:\n",
    "    print(\"Your Movie Ticket is Free...!\")\n",
    "elif age==3 or age<=12:\n",
    "    print(\"Ticket Price:$10\")\n",
    "elif age>12:\n",
    "    print(\"Ticket Price:$15\")\n"
   ]
  },
  {
   "cell_type": "code",
   "execution_count": 4,
   "metadata": {},
   "outputs": [
    {
     "name": "stdout",
     "output_type": "stream",
     "text": [
      "Enter a Book Name:Smarter Way Phyton\n",
      "My Favourite Book is: Smarter Way Phyton\n"
     ]
    }
   ],
   "source": [
    "def favourite_book(title):\n",
    "    print(\"My Favourite Book is:\",name);\n",
    "\n",
    "name=str(input(\"Enter a Book Name:\"))\n",
    "favourite_book(name)"
   ]
  },
  {
   "cell_type": "code",
   "execution_count": 5,
   "metadata": {},
   "outputs": [
    {
     "name": "stdout",
     "output_type": "stream",
     "text": [
      "23\n",
      "Enter a Number to Guess:2\n",
      "Number is greater than what you Guess\n",
      "Choices Left 2\n",
      "Enter a Number to Guess:30\n",
      "Number is lesser than what you Guess\n",
      "Choices Left 1\n",
      "Enter a Number to Guess:23\n",
      "You Guess it Right....!\n"
     ]
    }
   ],
   "source": [
    "import random\n",
    "\n",
    "number=random.randrange(1,30)\n",
    "choice=1\n",
    "print(number)\n",
    "while choice<=3:\n",
    "    num=int(input(\"Enter a Number to Guess:\"))\n",
    "    ch=3-choice\n",
    "    if num==number:\n",
    "        print(\"You Guess it Right....!\")\n",
    "        break;\n",
    "    elif num>number:\n",
    "        print(\"Number is lesser than what you Guess\")\n",
    "        print(\"Choices Left\",ch)\n",
    "        if ch==0:\n",
    "            print(\"You Lost....!\")\n",
    "    elif num<number:\n",
    "        print(\"Number is greater than what you Guess\")\n",
    "        print(\"Choices Left\",ch)\n",
    "        if ch==0:\n",
    "            print(\"You Lost....!\")\n",
    "    choice+=1\n"
   ]
  },
  {
   "cell_type": "code",
   "execution_count": null,
   "metadata": {},
   "outputs": [],
   "source": []
  }
 ],
 "metadata": {
  "kernelspec": {
   "display_name": "Python 3",
   "language": "python",
   "name": "python3"
  },
  "language_info": {
   "codemirror_mode": {
    "name": "ipython",
    "version": 3
   },
   "file_extension": ".py",
   "mimetype": "text/x-python",
   "name": "python",
   "nbconvert_exporter": "python",
   "pygments_lexer": "ipython3",
   "version": "3.6.7"
  }
 },
 "nbformat": 4,
 "nbformat_minor": 2
}
